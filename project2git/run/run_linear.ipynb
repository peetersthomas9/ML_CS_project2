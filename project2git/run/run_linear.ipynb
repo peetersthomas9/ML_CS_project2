{
 "cells": [
  {
   "cell_type": "code",
   "execution_count": 1,
   "metadata": {},
   "outputs": [],
   "source": [
    "from scipy.sparse import *\n",
    "import numpy as np\n",
    "import pickle\n",
    "import random\n",
    "from sklearn import svm\n",
    "import sklearn"
   ]
  },
  {
   "cell_type": "code",
   "execution_count": 2,
   "metadata": {},
   "outputs": [
    {
     "name": "stdout",
     "output_type": "stream",
     "text": [
      "(79316, 20)\n"
     ]
    }
   ],
   "source": [
    "data = np.load('../data/preprocessed/embeddings.npy')\n",
    "print(data.shape)\n",
    "\n",
    "with open('../data/preprocessed/vocab.pkl', 'rb') as f:\n",
    "    vocab = pickle.load(f)\n",
    "features=[]\n",
    "label=[]"
   ]
  },
  {
   "cell_type": "code",
   "execution_count": 7,
   "metadata": {},
   "outputs": [],
   "source": [
    "features=[]\n",
    "with open('../data/preprocessed/test_data_lem.txt') as f:\n",
    "    for line in f:\n",
    "        tokens = [vocab.get(t, -1) for t in line.strip().split()]\n",
    "        tokens = [t for t in tokens if t >= 0]\n",
    "        if len(tokens)==0:\n",
    "            features.append(np.zeros(20))\n",
    "        else:\n",
    "            features.append(np.mean(data[tokens,:],0))"
   ]
  },
  {
   "cell_type": "code",
   "execution_count": 10,
   "metadata": {},
   "outputs": [],
   "source": [
    "filename='../model/model_LogReg_lem.sav'\n",
    "loaded_model = pickle.load(open(filename, 'rb'))\n",
    "\n",
    "predict=loaded_model.predict(features)\n",
    "\n",
    "predict[predict==0]=-1\n",
    "numbers = np.arange(1, predict.size+1)\n",
    "final  = np.c_[numbers, predict]\n",
    "\n",
    "np.savetxt(\"testSVC.csv\", final , delimiter=\",\",header=\"Id,Prediction\",fmt=\"%i\", comments='')"
   ]
  },
  {
   "cell_type": "code",
   "execution_count": null,
   "metadata": {},
   "outputs": [],
   "source": []
  }
 ],
 "metadata": {
  "kernelspec": {
   "display_name": "Python 3",
   "language": "python",
   "name": "python3"
  },
  "language_info": {
   "codemirror_mode": {
    "name": "ipython",
    "version": 3
   },
   "file_extension": ".py",
   "mimetype": "text/x-python",
   "name": "python",
   "nbconvert_exporter": "python",
   "pygments_lexer": "ipython3",
   "version": "3.8.5"
  }
 },
 "nbformat": 4,
 "nbformat_minor": 4
}
