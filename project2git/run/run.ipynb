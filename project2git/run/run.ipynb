{
  "nbformat": 4,
  "nbformat_minor": 0,
  "metadata": {
    "colab": {
      "name": "Copy of run.ipynb",
      "provenance": []
    },
    "kernelspec": {
      "name": "python3",
      "display_name": "Python 3"
    },
    "language_info": {
      "name": "python"
    }
  },
  "cells": [
    {
      "cell_type": "code",
      "metadata": {
        "id": "wkl26zCylbvW"
      },
      "source": [
        "!pip install transformers\n",
        "from transformers import pipeline\n",
        "\n",
        "#Preprocessing text\n",
        "!pip install langdetect\n",
        "#!pip install autocorrect\n",
        "\n",
        "import nltk\n",
        "nltk.download('stopwords')\n",
        "from langdetect import detect\n",
        "\n",
        "from nltk.corpus import stopwords\n",
        "\n",
        "stops = set(stopwords.words())#stop words in nltk for all available languages\n",
        "\n",
        "import re\n",
        "def pre_process(text):\n",
        "  text = re.sub(r\"<user>\", \"\",text)#remove <user>\n",
        "  text = re.sub(r\"\\n\", \"\",text) \n",
        "  \n",
        "  return text"
      ],
      "execution_count": null,
      "outputs": []
    },
    {
      "cell_type": "code",
      "metadata": {
        "id": "mNTEA-jfmXHm"
      },
      "source": [
        ""
      ],
      "execution_count": null,
      "outputs": []
    },
    {
      "cell_type": "code",
      "metadata": {
        "id": "jOpgnljomQn_"
      },
      "source": [
        "pipe = pipeline(\"text-classification\", model=\"mollypak/cardiff-num\")\n"
      ],
      "execution_count": null,
      "outputs": []
    },
    {
      "cell_type": "code",
      "metadata": {
        "id": "71xWVPeNCG6C"
      },
      "source": [
        "#import numpy as np\n",
        "#file1 = open('/content/drive/My Drive/twitter-datasets/test_data.txt', 'r')\n",
        "#Lines = file1.readlines()\n",
        "\n",
        "#print(Lines[3])\n",
        "\n",
        "#for i in range(0,len(Lines)):\n",
        "#    print(pipe(pre_process(Lines[i]))[0].get(\"label\"))\n",
        "    "
      ],
      "execution_count": null,
      "outputs": []
    },
    {
      "cell_type": "code",
      "metadata": {
        "colab": {
          "base_uri": "https://localhost:8080/"
        },
        "id": "J7HOk5jCmx8J",
        "outputId": "6075a113-9e40-4486-d6a4-6f9ec5a4cbd0"
      },
      "source": [
        "import numpy as np\n",
        "file1 = open('ML_CS_project2-main/project2git/data/not_preprocessed/test_data.txt', 'r')\n",
        "Lines = file1.readlines()\n",
        "\n",
        "print(Lines[3])\n",
        "\n",
        "guess = np.zeros((len(Lines), 2))\n",
        "\n",
        "for i in range(0,len(Lines)):\n",
        "    guess[i,0]=i+1\n",
        "    \n",
        "    if pipe(pre_process(Lines[i]))[0].get(\"label\")=='LABEL_2':\n",
        "        guess[i,1] = 1\n",
        "    if pipe(pre_process(Lines[i]))[0].get(\"label\")=='LABEL_0':\n",
        "        guess[i,1] = -1\n",
        "\n",
        "np.savetxt(\"test_finetune.csv\", guess , delimiter=\",\",header=\"Id,Prediction\",fmt=\"%i\", comments='')"
      ],
      "execution_count": null,
      "outputs": [
        {
          "output_type": "stream",
          "name": "stdout",
          "text": [
            "4,<user> no ma'am ! ! ! lol im perfectly fine and not contagious anymore lmao\n",
            "\n"
          ]
        }
      ]
    },
    {
      "cell_type": "code",
      "source": [
        "guess[,:]"
      ],
      "metadata": {
        "id": "DKRzxOps4Qvn"
      },
      "execution_count": null,
      "outputs": []
    }
  ]
}